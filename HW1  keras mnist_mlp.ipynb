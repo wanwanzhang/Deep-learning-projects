{
    "cells": [
        {
            "cell_type": "code", 
            "metadata": {}, 
            "execution_count": 1, 
            "outputs": [
                {
                    "name": "stderr", 
                    "text": "Using TensorFlow backend.\n", 
                    "output_type": "stream"
                }
            ], 
            "source": "from __future__ import print_function\nimport keras\nfrom keras.datasets import cifar10\nfrom keras.models import Sequential\nfrom keras.layers import Dense, Dropout\nfrom keras.optimizers import RMSprop"
        }, 
        {
            "cell_type": "code", 
            "metadata": {
                "collapsed": true
            }, 
            "execution_count": 2, 
            "outputs": [], 
            "source": "\nbatch_size = 32\nnum_classes = 10\nepochs = 10"
        }, 
        {
            "cell_type": "code", 
            "metadata": {
                "collapsed": true
            }, 
            "execution_count": 3, 
            "outputs": [], 
            "source": "\n\n(x_train, y_train), (x_test, y_test) = cifar10.load_data()"
        }, 
        {
            "cell_type": "code", 
            "metadata": {}, 
            "execution_count": 4, 
            "outputs": [
                {
                    "name": "stdout", 
                    "text": "x_train shape: (50000, 32, 32, 3)\n", 
                    "output_type": "stream"
                }
            ], 
            "source": "print('x_train shape:', x_train.shape)\n"
        }, 
        {
            "cell_type": "code", 
            "metadata": {}, 
            "execution_count": 5, 
            "outputs": [
                {
                    "name": "stdout", 
                    "text": "x_test shape: (10000, 32, 32, 3)\n", 
                    "output_type": "stream"
                }
            ], 
            "source": "print('x_test shape:', x_test.shape)"
        }, 
        {
            "cell_type": "code", 
            "metadata": {
                "collapsed": true
            }, 
            "execution_count": 6, 
            "outputs": [], 
            "source": "x_train = x_train.reshape(50000,3072)\nx_test = x_test.reshape(10000,3072)"
        }, 
        {
            "cell_type": "code", 
            "metadata": {
                "collapsed": true
            }, 
            "execution_count": 7, 
            "outputs": [], 
            "source": "x_train = x_train.astype('float32')\nx_test = x_test.astype('float32')\nx_train /= 255\nx_test /= 255"
        }, 
        {
            "cell_type": "code", 
            "metadata": {
                "collapsed": true
            }, 
            "execution_count": 8, 
            "outputs": [], 
            "source": "# Convert class vectors to binary class matrices."
        }, 
        {
            "cell_type": "code", 
            "metadata": {
                "collapsed": true
            }, 
            "execution_count": 9, 
            "outputs": [], 
            "source": "from keras.utils import np_utils"
        }, 
        {
            "cell_type": "code", 
            "metadata": {
                "collapsed": true
            }, 
            "execution_count": 10, 
            "outputs": [], 
            "source": "y_train = np_utils.to_categorical(y_train, num_classes)\ny_test = np_utils.to_categorical(y_test, num_classes)\n"
        }, 
        {
            "cell_type": "code", 
            "metadata": {
                "collapsed": true
            }, 
            "execution_count": 11, 
            "outputs": [], 
            "source": "model = Sequential()"
        }, 
        {
            "cell_type": "code", 
            "metadata": {
                "collapsed": true
            }, 
            "execution_count": 12, 
            "outputs": [], 
            "source": "### using relu activation \nmodel.add(Dense(1024, activation='relu', input_shape=(3072,)))\nmodel.add(Dropout(0.2))\nmodel.add(Dense(1024, activation='relu'))\nmodel.add(Dropout(0.2))\nmodel.add(Dense(10, activation='softmax'))"
        }, 
        {
            "cell_type": "code", 
            "metadata": {
                "collapsed": true
            }, 
            "execution_count": 12, 
            "outputs": [], 
            "source": "### using tanh activation ### bad model do not use these \nmodel.add(Dense(1024, activation='tanh', input_shape=(3072,)))\nmodel.add(Dropout(0.2))\nmodel.add(Dense(1024, activation='tanh'))\nmodel.add(Dropout(0.2))\nmodel.add(Dense(10, activation='softmax'))"
        }, 
        {
            "cell_type": "code", 
            "metadata": {}, 
            "execution_count": 13, 
            "outputs": [
                {
                    "name": "stdout", 
                    "text": "_________________________________________________________________\nLayer (type)                 Output Shape              Param #   \n=================================================================\ndense_1 (Dense)              (None, 1024)              3146752   \n_________________________________________________________________\ndropout_1 (Dropout)          (None, 1024)              0         \n_________________________________________________________________\ndense_2 (Dense)              (None, 1024)              1049600   \n_________________________________________________________________\ndropout_2 (Dropout)          (None, 1024)              0         \n_________________________________________________________________\ndense_3 (Dense)              (None, 10)                10250     \n=================================================================\nTotal params: 4,206,602\nTrainable params: 4,206,602\nNon-trainable params: 0\n_________________________________________________________________\n", 
                    "output_type": "stream"
                }
            ], 
            "source": "model.summary()"
        }, 
        {
            "cell_type": "code", 
            "metadata": {}, 
            "execution_count": 14, 
            "outputs": [], 
            "source": "## using RMSPROP as optimizer\nopt = keras.optimizers.RMSprop(lr=0.01, rho=0.9, epsilon=1e-08, decay=0.0)"
        }, 
        {
            "cell_type": "code", 
            "metadata": {
                "collapsed": true
            }, 
            "execution_count": 14, 
            "outputs": [], 
            "source": "## using SGD as optimizer\nopt = keras.optimizers.SGD(lr=0.01, momentum=0.0, decay=0.0, nesterov=False)"
        }, 
        {
            "cell_type": "code", 
            "metadata": {
                "collapsed": true
            }, 
            "execution_count": 15, 
            "outputs": [], 
            "source": "model.compile(loss='categorical_crossentropy',\n              optimizer=opt,\n              metrics=['accuracy'])"
        }, 
        {
            "cell_type": "code", 
            "metadata": {
                "scrolled": false
            }, 
            "execution_count": 16, 
            "outputs": [
                {
                    "name": "stdout", 
                    "text": "Train on 50000 samples, validate on 10000 samples\nEpoch 1/10\n50000/50000 [==============================] - 39s - loss: 1.8893 - acc: 0.3211 - val_loss: 1.7107 - val_acc: 0.3975\nEpoch 2/10\n50000/50000 [==============================] - 39s - loss: 1.7131 - acc: 0.3926 - val_loss: 1.6613 - val_acc: 0.4076\nEpoch 3/10\n50000/50000 [==============================] - 39s - loss: 1.6399 - acc: 0.4183 - val_loss: 1.6123 - val_acc: 0.4188\nEpoch 4/10\n50000/50000 [==============================] - 38s - loss: 1.5875 - acc: 0.4385 - val_loss: 1.5455 - val_acc: 0.4488\nEpoch 5/10\n50000/50000 [==============================] - 32s - loss: 1.5465 - acc: 0.4528 - val_loss: 1.5330 - val_acc: 0.4478\nEpoch 6/10\n50000/50000 [==============================] - 29s - loss: 1.5092 - acc: 0.4682 - val_loss: 1.5033 - val_acc: 0.4609\nEpoch 7/10\n50000/50000 [==============================] - 29s - loss: 1.4771 - acc: 0.4762 - val_loss: 1.4530 - val_acc: 0.4797\nEpoch 8/10\n50000/50000 [==============================] - 30s - loss: 1.4507 - acc: 0.4876 - val_loss: 1.4253 - val_acc: 0.4991\nEpoch 9/10\n50000/50000 [==============================] - 39s - loss: 1.4257 - acc: 0.4958 - val_loss: 1.4136 - val_acc: 0.5039\nEpoch 10/10\n50000/50000 [==============================] - 38s - loss: 1.4003 - acc: 0.5056 - val_loss: 1.4506 - val_acc: 0.4830\n", 
                    "output_type": "stream"
                }
            ], 
            "source": "history = model.fit(x_train, y_train,\n                    batch_size=batch_size,\n                    epochs=epochs,\n                    verbose=1,\n                    validation_data=(x_test, y_test))"
        }, 
        {
            "cell_type": "code", 
            "metadata": {}, 
            "execution_count": 17, 
            "outputs": [], 
            "source": "score = model.evaluate(x_test, y_test, verbose=0)"
        }, 
        {
            "cell_type": "code", 
            "metadata": {}, 
            "execution_count": 18, 
            "outputs": [
                {
                    "metadata": {}, 
                    "output_type": "execute_result", 
                    "data": {
                        "text/plain": "[1.4505777521133423, 0.48299999999999998]"
                    }, 
                    "execution_count": 18
                }
            ], 
            "source": "score"
        }, 
        {
            "cell_type": "code", 
            "metadata": {
                "scrolled": false
            }, 
            "execution_count": 19, 
            "outputs": [
                {
                    "name": "stdout", 
                    "text": "Test loss: 1.45057775211\nTest accuracy: 0.483\n", 
                    "output_type": "stream"
                }
            ], 
            "source": "print('Test loss:', score[0])\nprint('Test accuracy:', score[1])"
        }, 
        {
            "cell_type": "code", 
            "metadata": {}, 
            "execution_count": 38, 
            "outputs": [], 
            "source": "from matplotlib import pyplot"
        }, 
        {
            "cell_type": "code", 
            "metadata": {
                "collapsed": true
            }, 
            "execution_count": 43, 
            "outputs": [], 
            "source": "%matplotlib inline"
        }, 
        {
            "cell_type": "code", 
            "metadata": {}, 
            "execution_count": 40, 
            "outputs": [
                {
                    "name": "stdout", 
                    "text": "[1.8893429062271119, 1.7131253874206542, 1.639910919418335, 1.5874990107345581, 1.546459305343628, 1.5092400466537477, 1.4770949821090698, 1.4507486920166015, 1.4257006283950806, 1.4002597031784059]\n", 
                    "output_type": "stream"
                }
            ], 
            "source": "print(history.history['loss'])"
        }, 
        {
            "cell_type": "code", 
            "metadata": {}, 
            "execution_count": 45, 
            "outputs": [
                {
                    "metadata": {}, 
                    "output_type": "display_data", 
                    "data": {
                        "image/png": "[encoded data removed]", 
                        "text/plain": "<matplotlib.figure.Figure at 0x7f742c1dd278>"
                    }
                }
            ], 
            "source": "pyplot.plot(history.history['loss'])\npyplot.plot(history.history['val_loss'])\npyplot.title('model train vs validation loss')\npyplot.ylabel('loss')\npyplot.xlabel('epoch')\npyplot.legend(['train', 'validation'], loc='upper right')\npyplot.show()\n"
        }, 
        {
            "cell_type": "code", 
            "metadata": {
                "collapsed": true
            }, 
            "execution_count": null, 
            "outputs": [], 
            "source": ""
        }, 
        {
            "cell_type": "code", 
            "metadata": {
                "collapsed": true
            }, 
            "execution_count": null, 
            "outputs": [], 
            "source": ""
        }, 
        {
            "cell_type": "code", 
            "metadata": {
                "collapsed": true
            }, 
            "execution_count": null, 
            "outputs": [], 
            "source": ""
        }
    ], 
    "metadata": {
        "kernelspec": {
            "display_name": "Python 3.5 (Experimental) with Spark 2.0", 
            "name": "python3-spark20", 
            "language": "python"
        }, 
        "language_info": {
            "mimetype": "text/x-python", 
            "name": "python", 
            "pygments_lexer": "ipython3", 
            "version": "3.5.2", 
            "file_extension": ".py", 
            "codemirror_mode": {
                "version": 3, 
                "name": "ipython"
            }, 
            "nbconvert_exporter": "python"
        }
    }, 
    "nbformat_minor": 1, 
    "nbformat": 4
}